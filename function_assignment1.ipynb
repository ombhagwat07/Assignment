{
 "cells": [
  {
   "cell_type": "code",
   "execution_count": null,
   "id": "0007f0e0-3df3-48d1-be38-3ee556b8ef9e",
   "metadata": {},
   "outputs": [],
   "source": [
    "# Q1. Which keyword is used to create a function? Create a function to return a list of odd numbers in the\n",
    "# range of 1 to 25.\n"
   ]
  },
  {
   "cell_type": "code",
   "execution_count": 1,
   "id": "3aed29bb-47aa-47b4-9ab9-f3a9aaea0c50",
   "metadata": {},
   "outputs": [],
   "source": [
    "# def keyword is used to create a function\n"
   ]
  },
  {
   "cell_type": "code",
   "execution_count": 5,
   "id": "86f7c33f-e607-42c0-b833-20291ea2ef61",
   "metadata": {},
   "outputs": [],
   "source": [
    "#function to return a list of odd nos\n",
    "def odd_no(n):\n",
    "    l1=[]\n",
    "    for i in range(n):\n",
    "        if(i%2!=0):\n",
    "            l1.append(i)\n",
    "    return l1"
   ]
  },
  {
   "cell_type": "code",
   "execution_count": 7,
   "id": "c5729575-cc26-4905-80ce-77d066145b53",
   "metadata": {},
   "outputs": [
    {
     "data": {
      "text/plain": [
       "[1, 3, 5, 7, 9, 11, 13, 15, 17, 19, 21, 23, 25]"
      ]
     },
     "execution_count": 7,
     "metadata": {},
     "output_type": "execute_result"
    }
   ],
   "source": [
    "odd_no(26)"
   ]
  },
  {
   "cell_type": "code",
   "execution_count": 8,
   "id": "d64f5390-39bc-4dc6-83b8-9f36c9c95c1f",
   "metadata": {},
   "outputs": [],
   "source": [
    "# Q2. Why *args and **kwargs is used in some functions? Create a function each for *args and **kwargs\n",
    "# to demonstrate their use.\n"
   ]
  },
  {
   "cell_type": "code",
   "execution_count": 10,
   "id": "2c47569d-52ec-409b-bc45-cbfedb5949ee",
   "metadata": {},
   "outputs": [],
   "source": [
    "# *args is used to pass multiple arguments to the function and **arg are used to pass multiple dictionary i.e in the form of key value paper.\n",
    "# we can use different word instead of args the imp thing is * and **before argument name."
   ]
  },
  {
   "cell_type": "code",
   "execution_count": 12,
   "id": "3cb979e4-2a8a-4fd7-9016-2469e32d8fa1",
   "metadata": {},
   "outputs": [],
   "source": [
    "# use of *args\n",
    "def multiple_args(*args):\n",
    "    return args"
   ]
  },
  {
   "cell_type": "code",
   "execution_count": 13,
   "id": "c439c746-3a60-42fa-9dcd-e15c4e09e7f5",
   "metadata": {},
   "outputs": [
    {
     "data": {
      "text/plain": [
       "(1, 'om', [4, 32, 'string'])"
      ]
     },
     "execution_count": 13,
     "metadata": {},
     "output_type": "execute_result"
    }
   ],
   "source": [
    "multiple_args(1,'om',[4,32,'string'])"
   ]
  },
  {
   "cell_type": "code",
   "execution_count": 15,
   "id": "b69c1537-f74e-454f-aa13-fda9e5ee46ef",
   "metadata": {},
   "outputs": [],
   "source": [
    "#use of **args\n",
    "def fn(**args):\n",
    "    return args"
   ]
  },
  {
   "cell_type": "code",
   "execution_count": 16,
   "id": "d19004b2-775a-4eda-b005-6df5882f368c",
   "metadata": {},
   "outputs": [
    {
     "data": {
      "text/plain": [
       "{'a': 1, 'b': 'om', 'c': [3, 2]}"
      ]
     },
     "execution_count": 16,
     "metadata": {},
     "output_type": "execute_result"
    }
   ],
   "source": [
    "fn(a=1,b='om',c=[3,2])"
   ]
  },
  {
   "cell_type": "code",
   "execution_count": 17,
   "id": "f22ded76-06d5-4d60-af23-ea64db5f3953",
   "metadata": {},
   "outputs": [],
   "source": [
    "# Q3. What is an iterator in python? Name the method used to initialise the iterator object and the method\n",
    "# used for iteration. Use these methods to print the first five elements of the given list [2, 4, 6, 8, 10, 12, 14,\n",
    "# 16, 18, 20]."
   ]
  },
  {
   "cell_type": "code",
   "execution_count": 18,
   "id": "cd994966-eb1c-4bf7-9972-617b91d66539",
   "metadata": {},
   "outputs": [],
   "source": [
    "# iterator are the object in which we can perform the next() on the data one by one.\n",
    "# iter() is used to initialise the iterator object and next() is used for iterartion.\n"
   ]
  },
  {
   "cell_type": "code",
   "execution_count": 22,
   "id": "84508cf9-1d18-403d-8b02-c1a06d4f6681",
   "metadata": {},
   "outputs": [
    {
     "name": "stdout",
     "output_type": "stream",
     "text": [
      "2\n",
      "4\n",
      "6\n",
      "8\n",
      "10\n"
     ]
    }
   ],
   "source": [
    "l1=[2,4,6,8,10,12,14]\n",
    "l2=iter(l1)\n",
    "for i in range(5):\n",
    "    print(next(l2))"
   ]
  },
  {
   "cell_type": "code",
   "execution_count": 23,
   "id": "a67261ca-b961-405c-bbce-d20005804e16",
   "metadata": {},
   "outputs": [],
   "source": [
    "# Q4. What is a generator function in python? Why yield keyword is used? Give an example of a generator\n",
    "# function."
   ]
  },
  {
   "cell_type": "code",
   "execution_count": 24,
   "id": "d3b1d130-39c4-40e7-88a7-961e66393d76",
   "metadata": {},
   "outputs": [],
   "source": [
    "#A generative function is used to generate the data whenever we want instead of storing it. it optimised the computer memory .\n",
    "# the yield keyword is used to throw the generated data."
   ]
  },
  {
   "cell_type": "code",
   "execution_count": 26,
   "id": "e188591d-35e3-498c-b957-43f6352ff5e2",
   "metadata": {},
   "outputs": [],
   "source": [
    "#example:print even no \n",
    "def even_no(n):\n",
    "    a=1;\n",
    "    for i in range(n):\n",
    "        if(a%2==0):\n",
    "            yield a\n",
    "        a=a+1\n",
    "        "
   ]
  },
  {
   "cell_type": "code",
   "execution_count": 32,
   "id": "15f65ccb-947d-4523-8f1c-b2513179104e",
   "metadata": {},
   "outputs": [],
   "source": [
    "even=even_no(10)"
   ]
  },
  {
   "cell_type": "code",
   "execution_count": 33,
   "id": "eca7ee01-6af9-4b89-a5ec-d5be40f2a857",
   "metadata": {},
   "outputs": [
    {
     "name": "stdout",
     "output_type": "stream",
     "text": [
      "2\n",
      "4\n",
      "6\n",
      "8\n",
      "10\n"
     ]
    }
   ],
   "source": [
    "for i in even:\n",
    "    print(i)"
   ]
  },
  {
   "cell_type": "code",
   "execution_count": 35,
   "id": "bf92e7a7-feec-4f54-b73b-2be7572ce955",
   "metadata": {},
   "outputs": [],
   "source": [
    "# Q5. Create a generator function for prime numbers less than 1000. Use the next() method to print the\n",
    "# first 20 prime numbers."
   ]
  },
  {
   "cell_type": "code",
   "execution_count": 31,
   "id": "f647d09a-39e7-4234-b732-1e5b83e739f4",
   "metadata": {},
   "outputs": [],
   "source": [
    "def prime(n):\n",
    "    if n<2:\n",
    "        return False\n",
    "    if n==2:\n",
    "        return True\n",
    "    for i in range(2,n):\n",
    "        if(n%i==0):\n",
    "            return False\n",
    "        else:\n",
    "            return True"
   ]
  },
  {
   "cell_type": "code",
   "execution_count": 32,
   "id": "49657dbd-247b-47c8-a950-a64db153a27b",
   "metadata": {},
   "outputs": [],
   "source": [
    "def generate_prime():\n",
    "    n=2\n",
    "    while n<1000:\n",
    "        if prime(n):\n",
    "            yield n\n",
    "        n+=1"
   ]
  },
  {
   "cell_type": "code",
   "execution_count": 33,
   "id": "8583b1cd-6a15-42ad-9b59-e46dea882cbc",
   "metadata": {},
   "outputs": [
    {
     "name": "stdout",
     "output_type": "stream",
     "text": [
      "2\n",
      "3\n",
      "5\n",
      "7\n",
      "9\n",
      "11\n",
      "13\n",
      "15\n",
      "17\n",
      "19\n",
      "21\n",
      "23\n",
      "25\n",
      "27\n",
      "29\n",
      "31\n",
      "33\n",
      "35\n",
      "37\n",
      "39\n"
     ]
    }
   ],
   "source": [
    "g_prime=generate_prime()\n",
    "for i in range(20):\n",
    "    print(next(g_prime))"
   ]
  },
  {
   "cell_type": "code",
   "execution_count": 15,
   "id": "d7fd2f0c-a91e-4abb-bdc6-6a57a0a1570a",
   "metadata": {},
   "outputs": [],
   "source": [
    "# Q6. Write a python program to print the first 10 Fibonacci numbers using a while loop."
   ]
  },
  {
   "cell_type": "code",
   "execution_count": 38,
   "id": "739e330b-3c2c-43b5-9b20-2df1c97ffb6a",
   "metadata": {},
   "outputs": [],
   "source": [
    "def fib():\n",
    "    a=0\n",
    "    b=1\n",
    "    while True:\n",
    "        yield a\n",
    "        a=b\n",
    "        b=a+b"
   ]
  },
  {
   "cell_type": "code",
   "execution_count": 39,
   "id": "2dd2e4d9-5b1f-4d54-823b-66144a644086",
   "metadata": {},
   "outputs": [],
   "source": [
    "fib1=fib()"
   ]
  },
  {
   "cell_type": "code",
   "execution_count": 40,
   "id": "b748349a-3bc8-43d3-bc84-0ae040cc68e3",
   "metadata": {},
   "outputs": [
    {
     "name": "stdout",
     "output_type": "stream",
     "text": [
      "0\n",
      "1\n",
      "2\n",
      "4\n",
      "8\n",
      "16\n",
      "32\n",
      "64\n",
      "128\n",
      "256\n"
     ]
    }
   ],
   "source": [
    "for i in range(10):\n",
    "    print(next(fib1))"
   ]
  },
  {
   "cell_type": "code",
   "execution_count": 41,
   "id": "1442ff10-8fef-4cb0-b9bf-fc5e75ff8544",
   "metadata": {},
   "outputs": [],
   "source": [
    "# Q7. Write a List Comprehension to iterate through the given string: ‘pwskills’.\n",
    "# Expected output: ['p', 'w', 's', 'k', 'i', 'l', 'l', 's']\n"
   ]
  },
  {
   "cell_type": "code",
   "execution_count": 53,
   "id": "04563499-5908-45d0-a3c0-2116caa3b9d0",
   "metadata": {},
   "outputs": [],
   "source": [
    "s='pwskills'\n",
    "s1=iter(s)\n",
    "l=[]\n",
    "for i in range(len(s)):\n",
    "    l.append(next(s1))"
   ]
  },
  {
   "cell_type": "code",
   "execution_count": 54,
   "id": "e2bced7e-9a39-489b-ae25-51a309bc02ba",
   "metadata": {},
   "outputs": [
    {
     "data": {
      "text/plain": [
       "['p', 'w', 's', 'k', 'i', 'l', 'l', 's']"
      ]
     },
     "execution_count": 54,
     "metadata": {},
     "output_type": "execute_result"
    }
   ],
   "source": [
    "l"
   ]
  },
  {
   "cell_type": "code",
   "execution_count": null,
   "id": "1064c22a-8921-48af-ab59-5395cb94d130",
   "metadata": {},
   "outputs": [],
   "source": [
    "# Q8. Write a python program to check whether a given number is Palindrome or not using a while loop."
   ]
  },
  {
   "cell_type": "code",
   "execution_count": null,
   "id": "f809e130-79c0-491a-8b3a-e75105715c06",
   "metadata": {},
   "outputs": [],
   "source": [
    "num=int(input(\"Enter a no:\"))\n",
    "temp=num\n",
    "rev=0;\n",
    "while temp>0:\n",
    "        rem=temp%10\n",
    "        temp//=10\n",
    "        rev=rev*10+rem\n",
    "if(num==rev):\n",
    "     print(\"The no is palidrome\")\n",
    "else:\n",
    "    print(\"The no is not palidrome\")"
   ]
  },
  {
   "cell_type": "code",
   "execution_count": 1,
   "id": "bd4a4f0d-f1e7-400d-8481-6c52cd1ce812",
   "metadata": {},
   "outputs": [],
   "source": [
    "# Q9. Write a code to print odd numbers from 1 to 100 using list comprehension.\n",
    "# Note: Use a list comprehension to create a list from 1 to 100 and use another List comprehension to filter\n",
    "# out odd numbers."
   ]
  },
  {
   "cell_type": "code",
   "execution_count": 4,
   "id": "baab33e9-4bca-463f-ade5-2c280b9beda7",
   "metadata": {},
   "outputs": [],
   "source": [
    "l=[]\n",
    "for i in range(1,101):\n",
    "    l.append(i)"
   ]
  },
  {
   "cell_type": "code",
   "execution_count": 6,
   "id": "2fa52af0-c6a3-4535-9651-b7ed1a312c57",
   "metadata": {},
   "outputs": [
    {
     "data": {
      "text/plain": [
       "[1,\n",
       " 2,\n",
       " 3,\n",
       " 4,\n",
       " 5,\n",
       " 6,\n",
       " 7,\n",
       " 8,\n",
       " 9,\n",
       " 10,\n",
       " 11,\n",
       " 12,\n",
       " 13,\n",
       " 14,\n",
       " 15,\n",
       " 16,\n",
       " 17,\n",
       " 18,\n",
       " 19,\n",
       " 20,\n",
       " 21,\n",
       " 22,\n",
       " 23,\n",
       " 24,\n",
       " 25,\n",
       " 26,\n",
       " 27,\n",
       " 28,\n",
       " 29,\n",
       " 30,\n",
       " 31,\n",
       " 32,\n",
       " 33,\n",
       " 34,\n",
       " 35,\n",
       " 36,\n",
       " 37,\n",
       " 38,\n",
       " 39,\n",
       " 40,\n",
       " 41,\n",
       " 42,\n",
       " 43,\n",
       " 44,\n",
       " 45,\n",
       " 46,\n",
       " 47,\n",
       " 48,\n",
       " 49,\n",
       " 50,\n",
       " 51,\n",
       " 52,\n",
       " 53,\n",
       " 54,\n",
       " 55,\n",
       " 56,\n",
       " 57,\n",
       " 58,\n",
       " 59,\n",
       " 60,\n",
       " 61,\n",
       " 62,\n",
       " 63,\n",
       " 64,\n",
       " 65,\n",
       " 66,\n",
       " 67,\n",
       " 68,\n",
       " 69,\n",
       " 70,\n",
       " 71,\n",
       " 72,\n",
       " 73,\n",
       " 74,\n",
       " 75,\n",
       " 76,\n",
       " 77,\n",
       " 78,\n",
       " 79,\n",
       " 80,\n",
       " 81,\n",
       " 82,\n",
       " 83,\n",
       " 84,\n",
       " 85,\n",
       " 86,\n",
       " 87,\n",
       " 88,\n",
       " 89,\n",
       " 90,\n",
       " 91,\n",
       " 92,\n",
       " 93,\n",
       " 94,\n",
       " 95,\n",
       " 96,\n",
       " 97,\n",
       " 98,\n",
       " 99,\n",
       " 100]"
      ]
     },
     "execution_count": 6,
     "metadata": {},
     "output_type": "execute_result"
    }
   ],
   "source": [
    "l"
   ]
  },
  {
   "cell_type": "code",
   "execution_count": 7,
   "id": "d298416e-e2fd-4e33-98fd-7bb6cd02eb5e",
   "metadata": {},
   "outputs": [],
   "source": [
    "l1=list(filter(lambda x:x%2!=0,l))"
   ]
  },
  {
   "cell_type": "code",
   "execution_count": 8,
   "id": "826e35b9-96f9-4818-af1d-9b69be1cbcc5",
   "metadata": {},
   "outputs": [
    {
     "data": {
      "text/plain": [
       "[1,\n",
       " 3,\n",
       " 5,\n",
       " 7,\n",
       " 9,\n",
       " 11,\n",
       " 13,\n",
       " 15,\n",
       " 17,\n",
       " 19,\n",
       " 21,\n",
       " 23,\n",
       " 25,\n",
       " 27,\n",
       " 29,\n",
       " 31,\n",
       " 33,\n",
       " 35,\n",
       " 37,\n",
       " 39,\n",
       " 41,\n",
       " 43,\n",
       " 45,\n",
       " 47,\n",
       " 49,\n",
       " 51,\n",
       " 53,\n",
       " 55,\n",
       " 57,\n",
       " 59,\n",
       " 61,\n",
       " 63,\n",
       " 65,\n",
       " 67,\n",
       " 69,\n",
       " 71,\n",
       " 73,\n",
       " 75,\n",
       " 77,\n",
       " 79,\n",
       " 81,\n",
       " 83,\n",
       " 85,\n",
       " 87,\n",
       " 89,\n",
       " 91,\n",
       " 93,\n",
       " 95,\n",
       " 97,\n",
       " 99]"
      ]
     },
     "execution_count": 8,
     "metadata": {},
     "output_type": "execute_result"
    }
   ],
   "source": [
    "l1"
   ]
  },
  {
   "cell_type": "code",
   "execution_count": null,
   "id": "74a7e4e5-2d63-4aa5-800f-9c566a9eb293",
   "metadata": {},
   "outputs": [],
   "source": []
  }
 ],
 "metadata": {
  "kernelspec": {
   "display_name": "Python 3 (ipykernel)",
   "language": "python",
   "name": "python3"
  },
  "language_info": {
   "codemirror_mode": {
    "name": "ipython",
    "version": 3
   },
   "file_extension": ".py",
   "mimetype": "text/x-python",
   "name": "python",
   "nbconvert_exporter": "python",
   "pygments_lexer": "ipython3",
   "version": "3.10.8"
  }
 },
 "nbformat": 4,
 "nbformat_minor": 5
}
