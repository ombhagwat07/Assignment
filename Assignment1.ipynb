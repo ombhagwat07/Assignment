{
 "cells": [
  {
   "cell_type": "code",
   "execution_count": 9,
   "id": "b6e5be6a-ef1a-459d-97fe-4f3f1a61afcb",
   "metadata": {},
   "outputs": [],
   "source": [
    "# Q1. Create one variable containing following type of data:\n",
    "# (i) string\n",
    "s ='Pwskills'\n",
    "# (ii) list\n",
    "l =[1,3,4.56,'Pwskills',True]\n",
    "# (iii) float\n",
    "f=4.567\n",
    "# (iv) tuple\n",
    "t=(1,3,5,'hello')\n"
   ]
  },
  {
   "cell_type": "code",
   "execution_count": null,
   "id": "032abd92-a421-4659-ba82-ccdd53ae7fd1",
   "metadata": {},
   "outputs": [],
   "source": [
    "# Q2. Given are some following variables containing data:\n",
    "# (i) var1 = ‘ ‘  \n",
    "String\n",
    "# (ii) var2 = ‘[ DS , ML , Python]’ \n",
    "String\n",
    "# (iii) var3 = [ ‘DS’ , ’ML’ , ‘Python’ ] \n",
    "List\n",
    "# (iv) var4 = 1 \n",
    "Integer.\n",
    "What will be the data type of the above given variable."
   ]
  },
  {
   "cell_type": "code",
   "execution_count": 25,
   "id": "2352ca7d-902d-48ff-bb27-9380a17590d4",
   "metadata": {},
   "outputs": [],
   "source": [
    "# Q3. Explain the use of the following operators using an example:\n",
    "# (i) / : it is used to divide a no by another.\n",
    "# (ii) % : it is a module operator used to find the remainder.\n",
    "# (iii) // : it is floor division operator used to find only integer value and not decimal point after dividing a no.\n",
    " # (iv) ** : it is used for exponential.\n"
   ]
  },
  {
   "cell_type": "code",
   "execution_count": 26,
   "id": "5f59469b-ca3a-4f6a-a77f-0675f2e32469",
   "metadata": {},
   "outputs": [
    {
     "data": {
      "text/plain": [
       "2.5"
      ]
     },
     "execution_count": 26,
     "metadata": {},
     "output_type": "execute_result"
    }
   ],
   "source": [
    "#Example1\n",
    "5/2"
   ]
  },
  {
   "cell_type": "code",
   "execution_count": 27,
   "id": "6d5816e7-c04c-4047-8e07-8c27befc21d6",
   "metadata": {},
   "outputs": [
    {
     "data": {
      "text/plain": [
       "1"
      ]
     },
     "execution_count": 27,
     "metadata": {},
     "output_type": "execute_result"
    }
   ],
   "source": [
    "#Example2\n",
    "5%2"
   ]
  },
  {
   "cell_type": "code",
   "execution_count": 28,
   "id": "4dc271a6-e169-48b6-9998-a9bffcbea5c1",
   "metadata": {},
   "outputs": [
    {
     "data": {
      "text/plain": [
       "2"
      ]
     },
     "execution_count": 28,
     "metadata": {},
     "output_type": "execute_result"
    }
   ],
   "source": [
    "#Example3\n",
    "5//2"
   ]
  },
  {
   "cell_type": "code",
   "execution_count": 29,
   "id": "0adde106-a067-4925-8d79-0f9289cdbc56",
   "metadata": {},
   "outputs": [
    {
     "data": {
      "text/plain": [
       "25"
      ]
     },
     "execution_count": 29,
     "metadata": {},
     "output_type": "execute_result"
    }
   ],
   "source": [
    "#Example4\n",
    "5**2"
   ]
  },
  {
   "cell_type": "code",
   "execution_count": 32,
   "id": "06833266-19fb-4a62-8bdb-9b062908dbc1",
   "metadata": {},
   "outputs": [
    {
     "name": "stdout",
     "output_type": "stream",
     "text": [
      "1\n",
      "<class 'int'>\n",
      "45\n",
      "<class 'int'>\n",
      "4.56\n",
      "<class 'float'>\n",
      "Pwskill\n",
      "<class 'str'>\n",
      "True\n",
      "<class 'bool'>\n"
     ]
    }
   ],
   "source": [
    "# Q4. Create a list of length 10 of your choice containing multiple types of data. Using for loop print the\n",
    "#  element and its data type.\n",
    "l =[1,45,4.56,'Pwskill',True]\n",
    "for i in l:\n",
    "    print(i)\n",
    "    print(type(i))"
   ]
  },
  {
   "cell_type": "code",
   "execution_count": 38,
   "id": "134cb539-c4a0-4438-80c5-d7238a52e2d9",
   "metadata": {},
   "outputs": [
    {
     "name": "stdin",
     "output_type": "stream",
     "text": [
      "Enter A 12\n",
      "Enter B 6\n"
     ]
    },
    {
     "name": "stdout",
     "output_type": "stream",
     "text": [
      "A is purely divided by B\n",
      "A is divisible by B by times = 2.0\n"
     ]
    }
   ],
   "source": [
    "# Q5. Using a while loop, verify if the number A is purely divisible by number B and if so then how many\n",
    "#times it can be divisible.\n",
    "A = int(input(\"Enter A\"))\n",
    "B = int(input(\"Enter B\"))\n",
    "if A%B==0:\n",
    "    print(\"A is purely divided by B\")\n",
    "    Q=A/B\n",
    "    print(\"A is divisible by B by times =\",Q)\n",
    "else:\n",
    "    print(\"A is not divisible by B\")"
   ]
  },
  {
   "cell_type": "code",
   "execution_count": 3,
   "id": "e6147673-643a-40c4-bcc0-cd18d6e1655c",
   "metadata": {},
   "outputs": [
    {
     "name": "stdout",
     "output_type": "stream",
     "text": [
      "The elements divsible by 3 are:\n",
      "3\n",
      "6\n",
      "9\n",
      "12\n",
      "15\n",
      "18\n",
      "21\n",
      "24\n"
     ]
    }
   ],
   "source": [
    "# Q6. Create a list containing 25 int type data. Using for loop and if-else condition print if the element is\n",
    "# divisible by 3 or not.\n",
    "l=[1,2,3,4,5,6,7,8,9,10,11,12,13,14,15,16,17,18,19,20,21,22,23,24,25]\n",
    "print(\"The elements divsible by 3 are:\")\n",
    "for i in l:\n",
    "    if i%3==0:\n",
    "        print(i)\n"
   ]
  },
  {
   "cell_type": "code",
   "execution_count": 4,
   "id": "c375f33b-001a-4ae1-b4f3-5c030a032330",
   "metadata": {},
   "outputs": [],
   "source": [
    "# Q7. What do you understand about mutable and immutable data types? Give examples for both showing\n",
    "# this property.\n",
    "#if we can modify any data type by using its indexing value then it is called as mutable datatype.eg:List\n",
    "#If we cannot modify any data type by using its indexing value then it is called as immutable datatype.eg: string.\n",
    "#Examples:"
   ]
  },
  {
   "cell_type": "code",
   "execution_count": 6,
   "id": "1c92fa9f-9787-4e7b-b176-48aed264e678",
   "metadata": {},
   "outputs": [
    {
     "ename": "TypeError",
     "evalue": "'str' object does not support item assignment",
     "output_type": "error",
     "traceback": [
      "\u001b[0;31m---------------------------------------------------------------------------\u001b[0m",
      "\u001b[0;31mTypeError\u001b[0m                                 Traceback (most recent call last)",
      "Cell \u001b[0;32mIn[6], line 2\u001b[0m\n\u001b[1;32m      1\u001b[0m s\u001b[38;5;241m=\u001b[39m\u001b[38;5;124m\"\u001b[39m\u001b[38;5;124mpwskill\u001b[39m\u001b[38;5;124m\"\u001b[39m\n\u001b[0;32m----> 2\u001b[0m \u001b[43ms\u001b[49m\u001b[43m[\u001b[49m\u001b[38;5;241;43m1\u001b[39;49m\u001b[43m]\u001b[49m \u001b[38;5;241m=\u001b[39m\u001b[38;5;124m'\u001b[39m\u001b[38;5;124ma\u001b[39m\u001b[38;5;124m'\u001b[39m\n",
      "\u001b[0;31mTypeError\u001b[0m: 'str' object does not support item assignment"
     ]
    }
   ],
   "source": [
    "s=\"pwskill\"\n",
    "s[1] ='a'\n",
    "#as it is immutable it will show an error"
   ]
  },
  {
   "cell_type": "code",
   "execution_count": 9,
   "id": "5aca51a2-519e-445e-9e85-7627b29a0ad8",
   "metadata": {},
   "outputs": [
    {
     "data": {
      "text/plain": [
       "[1, 2, 8, 4, 'y']"
      ]
     },
     "execution_count": 9,
     "metadata": {},
     "output_type": "execute_result"
    }
   ],
   "source": [
    "l=[1,2,3,4,'y']\n",
    "l[2]=8\n",
    "l\n",
    "#as it is mutable it will modify the data."
   ]
  },
  {
   "cell_type": "code",
   "execution_count": null,
   "id": "955625be-5fe7-41be-85ac-156c416b0f95",
   "metadata": {},
   "outputs": [],
   "source": []
  }
 ],
 "metadata": {
  "kernelspec": {
   "display_name": "Python 3 (ipykernel)",
   "language": "python",
   "name": "python3"
  },
  "language_info": {
   "codemirror_mode": {
    "name": "ipython",
    "version": 3
   },
   "file_extension": ".py",
   "mimetype": "text/x-python",
   "name": "python",
   "nbconvert_exporter": "python",
   "pygments_lexer": "ipython3",
   "version": "3.10.8"
  }
 },
 "nbformat": 4,
 "nbformat_minor": 5
}
