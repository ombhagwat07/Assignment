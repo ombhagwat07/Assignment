{
 "cells": [
  {
   "cell_type": "markdown",
   "id": "225d4e55-5e80-413e-87eb-6793a6fd20ef",
   "metadata": {},
   "source": [
    "Q1. How do you comment code in Python? What are the different types of comments?"
   ]
  },
  {
   "cell_type": "markdown",
   "id": "0c87aa8e-3ea3-4c85-bf04-93a579db27ac",
   "metadata": {},
   "source": [
    "In python you can add comment in your program by two ways:\n",
    "    1)Single line comment:- a hash character is used to add single line comment.\n",
    "    2) multi_line comment:-  triple quoate(either single or double ) is used ."
   ]
  },
  {
   "cell_type": "code",
   "execution_count": 8,
   "id": "b8878cf6-8504-4ecd-9567-d3ffa2aa5f03",
   "metadata": {},
   "outputs": [],
   "source": [
    "#This is a single line comment\n"
   ]
  },
  {
   "cell_type": "code",
   "execution_count": 1,
   "id": "f1565467-38a7-40f4-b70f-f01bdad55f77",
   "metadata": {},
   "outputs": [
    {
     "data": {
      "text/plain": [
       "' this is multi line comment \\nthis is 2nd line '"
      ]
     },
     "execution_count": 1,
     "metadata": {},
     "output_type": "execute_result"
    }
   ],
   "source": [
    "''' this is multi line comment \n",
    "this is 2nd line '''"
   ]
  },
  {
   "cell_type": "markdown",
   "id": "26d6ce50-3697-4865-bf63-ec5ede591155",
   "metadata": {},
   "source": [
    "Q2. What are variables in Python? How do you declare and assign values to variables?"
   ]
  },
  {
   "cell_type": "code",
   "execution_count": 12,
   "id": "cd468fe1-e155-43df-9b34-7f97da3844ff",
   "metadata": {},
   "outputs": [],
   "source": [
    "# Variable are just like a container in python which store some value. like c,c++ or java in python we do not need \n",
    "# to define the datatype of a variable . python understand its datatype.\n",
    "# to declare a variable in python we have to first give a name as variable then use assignment operator and assgin some \n",
    "# value to it .The value can be string, float,integer,list,tuple ,dictionary etc\n",
    "#Eg:\n",
    "a=1\n",
    "b=9.33\n",
    "c=[1,2,3,4]\n",
    "d=\"pwskills\""
   ]
  },
  {
   "cell_type": "code",
   "execution_count": 14,
   "id": "f8a450da-39f4-4962-938e-223f2d8f0ded",
   "metadata": {},
   "outputs": [
    {
     "name": "stdout",
     "output_type": "stream",
     "text": [
      "1\n",
      "9.33\n",
      "[1, 2, 3, 4]\n",
      "pwskills\n"
     ]
    }
   ],
   "source": [
    "print(a)\n",
    "print(b)\n",
    "print(c)\n",
    "print(d)\n",
    "\n"
   ]
  },
  {
   "cell_type": "markdown",
   "id": "b7ac5957-26be-49e2-bff6-871e2ce5bbc5",
   "metadata": {},
   "source": [
    "Q3. How do you convert one data type to another in Python?"
   ]
  },
  {
   "cell_type": "code",
   "execution_count": 18,
   "id": "14c1e7eb-007a-4ef7-89ce-1f820c7a5cc8",
   "metadata": {},
   "outputs": [
    {
     "name": "stdout",
     "output_type": "stream",
     "text": [
      "['p', 'w', 's', 'k', 'i', 'l', 'l', 's']\n"
     ]
    }
   ],
   "source": [
    "#You can convert one data type to another by typecasting in python\n",
    "#Eg:\n",
    "a='pwskills'\n",
    "print(list(a))\n",
    "#In the above exmaple we convert the string in the form of list."
   ]
  },
  {
   "cell_type": "markdown",
   "id": "868ceec2-9d40-42b4-824f-6a3cd667a321",
   "metadata": {},
   "source": [
    "Q4. How do you write and execute a Python script from the command line?"
   ]
  },
  {
   "cell_type": "code",
   "execution_count": 4,
   "id": "fbe030fb-467f-441b-9621-e81310c8ab2f",
   "metadata": {},
   "outputs": [],
   "source": [
    "# in Jupiter notebook you just have to write a code and press shift + enter to excute it .\n",
    "# if you want to write and execute python script from the command line . \n",
    "# step 1: write a code in any text editor i.e notepad,vs code etc and save the file with extenion .py.\n",
    "# eg: hello.py\n",
    "# step 2: open prompt command in your window and first cd and then the folder path.\n",
    "# eg: cd desktop\n",
    "#step 3: write python and after that file name\n",
    "#eg: python hello .py\n"
   ]
  },
  {
   "cell_type": "markdown",
   "id": "51f3460a-b1e7-4348-ba92-a3eda2c12d64",
   "metadata": {},
   "source": [
    "Q5. Given a list my_list = [1, 2, 3, 4, 5], write the code to slice the list and obtain the sub-list [2, 3]."
   ]
  },
  {
   "cell_type": "code",
   "execution_count": 5,
   "id": "71c71a59-aac2-48b0-9f5a-6d79a4721406",
   "metadata": {},
   "outputs": [],
   "source": [
    "my_list=[1,2,3,4,5]"
   ]
  },
  {
   "cell_type": "code",
   "execution_count": 6,
   "id": "0cae1c40-5ffc-4c40-a8c3-29c9d9229a2c",
   "metadata": {},
   "outputs": [],
   "source": [
    "sub_list=my_list[1:3]"
   ]
  },
  {
   "cell_type": "code",
   "execution_count": 7,
   "id": "dc7ccb26-1152-462a-9250-fcd0d97e7872",
   "metadata": {},
   "outputs": [
    {
     "data": {
      "text/plain": [
       "[2, 3]"
      ]
     },
     "execution_count": 7,
     "metadata": {},
     "output_type": "execute_result"
    }
   ],
   "source": [
    "sub_list"
   ]
  },
  {
   "cell_type": "markdown",
   "id": "74f4c57d-7c3d-4147-9f96-cc8a9e3fbb1e",
   "metadata": {},
   "source": [
    "Q6. What is a complex number in mathematics, and how is it represented in Python?"
   ]
  },
  {
   "cell_type": "markdown",
   "id": "f26f49b0-a99c-474e-8877-d8b2392d6086",
   "metadata": {},
   "source": [
    "It is a no which is represented in a form of a+bi .where a is real part and b is imaginary part.\n",
    "i is a square root of negative 1.\n",
    "in python instead of i we use j."
   ]
  },
  {
   "cell_type": "code",
   "execution_count": 10,
   "id": "ae3ec221-6537-4502-9bfc-8921f7b6e315",
   "metadata": {},
   "outputs": [],
   "source": [
    "#eg:\n",
    "a=5+9j"
   ]
  },
  {
   "cell_type": "code",
   "execution_count": 12,
   "id": "670c5474-b440-4e54-8149-25ad094fc9b2",
   "metadata": {},
   "outputs": [
    {
     "data": {
      "text/plain": [
       "9.0"
      ]
     },
     "execution_count": 12,
     "metadata": {},
     "output_type": "execute_result"
    }
   ],
   "source": [
    "a.imag"
   ]
  },
  {
   "cell_type": "code",
   "execution_count": 13,
   "id": "e63f566d-70f3-48cb-8348-22fbfd45a341",
   "metadata": {},
   "outputs": [
    {
     "data": {
      "text/plain": [
       "5.0"
      ]
     },
     "execution_count": 13,
     "metadata": {},
     "output_type": "execute_result"
    }
   ],
   "source": [
    "a.real"
   ]
  },
  {
   "cell_type": "markdown",
   "id": "2eeaf826-cc61-4bf0-9735-6db569d77ef9",
   "metadata": {},
   "source": [
    "Q7. What is the correct way to declare a variable named age and assign the value 25 to it?"
   ]
  },
  {
   "cell_type": "code",
   "execution_count": 19,
   "id": "2f2b48ac-6ffe-46c9-a8f1-f461f9e80068",
   "metadata": {},
   "outputs": [],
   "source": [
    "#To declare a variable first we have to write the variable name then use assignment operator and assign value to it.\n",
    "#unlike in c,java,c++ we dont have to declare variable data type in python. Python is a case sensitive language .we cannot \n",
    "#nos or special character as a first letter of variable name\n",
    "#EG:\n",
    "age=25\n",
    "Age=24"
   ]
  },
  {
   "cell_type": "code",
   "execution_count": 20,
   "id": "cb983b14-95e6-4bff-8eac-3cd1bef2934d",
   "metadata": {},
   "outputs": [
    {
     "data": {
      "text/plain": [
       "25"
      ]
     },
     "execution_count": 20,
     "metadata": {},
     "output_type": "execute_result"
    }
   ],
   "source": [
    "age"
   ]
  },
  {
   "cell_type": "code",
   "execution_count": 17,
   "id": "3ccdb149-427e-46d1-983c-89609bb4678d",
   "metadata": {},
   "outputs": [
    {
     "data": {
      "text/plain": [
       "24"
      ]
     },
     "execution_count": 17,
     "metadata": {},
     "output_type": "execute_result"
    }
   ],
   "source": [
    "Age"
   ]
  },
  {
   "cell_type": "markdown",
   "id": "5a2e7b66-3466-40e2-ba7b-e3508226f0ee",
   "metadata": {},
   "source": [
    "Q8. Declare a variable named price and assign the value 9.99 to it. What data type does this variable\n",
    "belong to?"
   ]
  },
  {
   "cell_type": "code",
   "execution_count": 21,
   "id": "6cf0737b-4730-4f63-9aa3-b50f72725e59",
   "metadata": {},
   "outputs": [],
   "source": [
    "price = 9.99"
   ]
  },
  {
   "cell_type": "code",
   "execution_count": 22,
   "id": "3ddf4847-ca5a-426f-a39e-6a6ac4a0a86e",
   "metadata": {},
   "outputs": [
    {
     "data": {
      "text/plain": [
       "float"
      ]
     },
     "execution_count": 22,
     "metadata": {},
     "output_type": "execute_result"
    }
   ],
   "source": [
    "type(price)"
   ]
  },
  {
   "cell_type": "markdown",
   "id": "a638db30-0076-48ca-9f21-03c2b7021403",
   "metadata": {},
   "source": [
    "Q9. Create a variable named name and assign your full name to it as a string. How would you print the\n",
    "value of this variable?"
   ]
  },
  {
   "cell_type": "code",
   "execution_count": 23,
   "id": "50720a5e-ca23-4de1-a0d5-73bb5bc6b45c",
   "metadata": {},
   "outputs": [],
   "source": [
    "name='Om Bhagwat'"
   ]
  },
  {
   "cell_type": "code",
   "execution_count": 25,
   "id": "e1e01b66-f27a-4036-958e-1cd6fcb86201",
   "metadata": {},
   "outputs": [
    {
     "data": {
      "text/plain": [
       "'Om Bhagwat'"
      ]
     },
     "execution_count": 25,
     "metadata": {},
     "output_type": "execute_result"
    }
   ],
   "source": [
    "#you can print the value of the variable by writing variable name and then press shift +enter to execute it.\n",
    "#EG:\n",
    "name"
   ]
  },
  {
   "cell_type": "markdown",
   "id": "b0d9d170-dc54-4b9a-8799-14c4870bb479",
   "metadata": {},
   "source": [
    "Q10. Given the string \"Hello, World!\", extract the substring \"World\"."
   ]
  },
  {
   "cell_type": "code",
   "execution_count": 26,
   "id": "9051268a-f9fd-4a2f-98df-fa1baca77d0c",
   "metadata": {},
   "outputs": [],
   "source": [
    "s=\"Hello,World!\""
   ]
  },
  {
   "cell_type": "code",
   "execution_count": 27,
   "id": "9ff900b1-56b8-4bf8-aa1d-d978e2b605ab",
   "metadata": {},
   "outputs": [
    {
     "data": {
      "text/plain": [
       "'Hello'"
      ]
     },
     "execution_count": 27,
     "metadata": {},
     "output_type": "execute_result"
    }
   ],
   "source": [
    "s[0:5]"
   ]
  },
  {
   "cell_type": "markdown",
   "id": "525c0cc4-ab42-4f2b-8b16-a9f9ad6b831b",
   "metadata": {},
   "source": [
    "Q11. Create a variable named \"is_student\" and assign it a boolean value indicating whether you are\n",
    "currently a student or not."
   ]
  },
  {
   "cell_type": "code",
   "execution_count": 2,
   "id": "e419a6ca-3639-4916-a1dc-3017e04fd298",
   "metadata": {},
   "outputs": [],
   "source": [
    "is_student=True"
   ]
  },
  {
   "cell_type": "code",
   "execution_count": 3,
   "id": "d86cf238-e6bf-446a-acbd-cc656dcd60a9",
   "metadata": {},
   "outputs": [
    {
     "data": {
      "text/plain": [
       "True"
      ]
     },
     "execution_count": 3,
     "metadata": {},
     "output_type": "execute_result"
    }
   ],
   "source": [
    "is_student"
   ]
  },
  {
   "cell_type": "code",
   "execution_count": null,
   "id": "1a218656-9e1d-46ff-9775-98569329a93e",
   "metadata": {},
   "outputs": [],
   "source": []
  }
 ],
 "metadata": {
  "kernelspec": {
   "display_name": "Python 3 (ipykernel)",
   "language": "python",
   "name": "python3"
  },
  "language_info": {
   "codemirror_mode": {
    "name": "ipython",
    "version": 3
   },
   "file_extension": ".py",
   "mimetype": "text/x-python",
   "name": "python",
   "nbconvert_exporter": "python",
   "pygments_lexer": "ipython3",
   "version": "3.10.8"
  }
 },
 "nbformat": 4,
 "nbformat_minor": 5
}
