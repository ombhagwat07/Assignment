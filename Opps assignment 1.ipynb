{
 "cells": [
  {
   "cell_type": "markdown",
   "id": "bc87a5c4-9e1d-4740-89c2-c8adb876b0aa",
   "metadata": {},
   "source": [
    "Q1, Create a vehicle class with an init method having instance variables as name_of_vehicle, max_speed\n",
    "and average_of_vehicle."
   ]
  },
  {
   "cell_type": "code",
   "execution_count": 1,
   "id": "209faf34-3980-49e2-a8c1-eb92cfedd09c",
   "metadata": {},
   "outputs": [],
   "source": [
    "class vehicle:\n",
    "    def __init__(self,name_of_vehicle,max_speed,avg_of_vehicle):\n",
    "        self.name_of_vehicle=name_of_vehicle\n",
    "        self.max_speed=max_speed\n",
    "        self.avg_of_vehicle=avg_of_vehicle\n",
    "    "
   ]
  },
  {
   "cell_type": "markdown",
   "id": "91a84afb-d052-4b4f-89a6-3c38d72efe21",
   "metadata": {},
   "source": [
    "Q2. Create a child class car from the vehicle class created in Que 1, which will inherit the vehicle class.\n",
    "Create a method named seating_capacity which takes capacity as an argument and returns the name of\n",
    "the vehicle and its seating capacity."
   ]
  },
  {
   "cell_type": "code",
   "execution_count": 7,
   "id": "a2b8a06d-45d9-4f75-bee2-667ec95c1064",
   "metadata": {},
   "outputs": [],
   "source": [
    "class car(vehicle):\n",
    "    def seating_capacity(self,capacity):\n",
    "        self.capacity=capacity\n",
    "        return self.name_of_vehicle,self.capacity"
   ]
  },
  {
   "cell_type": "code",
   "execution_count": 10,
   "id": "3b608f64-134d-43b0-aa15-58607f88c0fe",
   "metadata": {},
   "outputs": [],
   "source": [
    "car1=car('Creata',200,20)"
   ]
  },
  {
   "cell_type": "code",
   "execution_count": 11,
   "id": "4d17fec0-ba90-499e-90be-bca0b5e54521",
   "metadata": {},
   "outputs": [
    {
     "data": {
      "text/plain": [
       "('Creata', 5)"
      ]
     },
     "execution_count": 11,
     "metadata": {},
     "output_type": "execute_result"
    }
   ],
   "source": [
    "car1.seating_capacity(5)"
   ]
  },
  {
   "cell_type": "markdown",
   "id": "c944a051-540b-4ec5-b9cb-dc4964f82992",
   "metadata": {},
   "source": [
    "Q3. What is multiple inheritance? Write a python code to demonstrate multiple inheritance."
   ]
  },
  {
   "cell_type": "markdown",
   "id": "9e0c11e2-8a38-4647-ae0c-3169a183d66a",
   "metadata": {},
   "source": [
    "#Multiple Inheritence: when the properties of two or more class is used by the another class.\n",
    "#Eg: heredity of mother and father is present in a child."
   ]
  },
  {
   "cell_type": "markdown",
   "id": "d1a079eb-3fc0-432c-80cf-2d5b3ac29565",
   "metadata": {},
   "source": [
    "Program:"
   ]
  },
  {
   "cell_type": "code",
   "execution_count": 19,
   "id": "49da6de6-65bb-4147-9621-1c6d2fd7077b",
   "metadata": {},
   "outputs": [],
   "source": [
    "class father():\n",
    "    def hobby1(self):\n",
    "        return \"I am a good singer\""
   ]
  },
  {
   "cell_type": "code",
   "execution_count": 20,
   "id": "af5bb5cb-9096-45ae-9dce-2ddb099ee59b",
   "metadata": {},
   "outputs": [],
   "source": [
    "class mother():\n",
    "    def hobby2(self):\n",
    "        return \" I am a good Dancer\""
   ]
  },
  {
   "cell_type": "code",
   "execution_count": 21,
   "id": "f7df9770-3d44-4d7e-82d6-19b3b9f69bdc",
   "metadata": {},
   "outputs": [],
   "source": [
    "class child(father,mother):\n",
    "    pass"
   ]
  },
  {
   "cell_type": "code",
   "execution_count": 22,
   "id": "390f73c9-f646-45c8-ae24-954789629aa8",
   "metadata": {},
   "outputs": [],
   "source": [
    "rahul=child()"
   ]
  },
  {
   "cell_type": "code",
   "execution_count": 23,
   "id": "48b19364-f5b1-42d7-99aa-2bfe18738d60",
   "metadata": {},
   "outputs": [
    {
     "data": {
      "text/plain": [
       "'I am a good singer'"
      ]
     },
     "execution_count": 23,
     "metadata": {},
     "output_type": "execute_result"
    }
   ],
   "source": [
    "rahul.hobby1()"
   ]
  },
  {
   "cell_type": "code",
   "execution_count": 24,
   "id": "359b1fb3-5a4e-4278-a843-cb01e58403f2",
   "metadata": {},
   "outputs": [
    {
     "data": {
      "text/plain": [
       "' I am a good Dancer'"
      ]
     },
     "execution_count": 24,
     "metadata": {},
     "output_type": "execute_result"
    }
   ],
   "source": [
    "rahul.hobby2()"
   ]
  },
  {
   "cell_type": "markdown",
   "id": "f62fb4d0-3908-4348-8889-0a8f00072952",
   "metadata": {},
   "source": [
    "Q4. What are getter and setter in python? Create a class and create a getter and a setter method in this\n",
    "class.\n"
   ]
  },
  {
   "cell_type": "markdown",
   "id": "df404ecb-a395-4b9d-b859-36555e1a502e",
   "metadata": {},
   "source": [
    "We used encapsulation in order to hide variable or its value so that user cannot see or modity it. In order to make allow\n",
    "the user to see or modity the value of variable we use getter and setter method in a class."
   ]
  },
  {
   "cell_type": "markdown",
   "id": "182337d7-6ff8-4f45-b558-621e2410fa5f",
   "metadata": {},
   "source": [
    "Program:"
   ]
  },
  {
   "cell_type": "code",
   "execution_count": 50,
   "id": "1c93cf75-1c02-4690-bcd7-16e1d3aa59f0",
   "metadata": {},
   "outputs": [],
   "source": [
    "class student_details:\n",
    "    def __init__(self,name,age):\n",
    "        self.__name=name\n",
    "        self.__age=age\n",
    "    def get_age(self):\n",
    "        return self.__age\n",
    "    def set_age(self,age):\n",
    "        if age>0:\n",
    "            self.__age=age\n",
    "        else:\n",
    "            return \"age cannot be negative\"\n"
   ]
  },
  {
   "cell_type": "code",
   "execution_count": 51,
   "id": "d5021c72-2a9a-4595-aff5-6ee80b2a9ca7",
   "metadata": {},
   "outputs": [],
   "source": [
    "student1= student_details('om',19)"
   ]
  },
  {
   "cell_type": "code",
   "execution_count": 52,
   "id": "fc31c6c5-fe53-418e-9f11-78ca7b22338a",
   "metadata": {},
   "outputs": [],
   "source": [
    "student2=student_details('vishnu',21)"
   ]
  },
  {
   "cell_type": "code",
   "execution_count": 53,
   "id": "0046f61b-fbd3-4f12-98db-4719a009e9db",
   "metadata": {},
   "outputs": [
    {
     "data": {
      "text/plain": [
       "19"
      ]
     },
     "execution_count": 53,
     "metadata": {},
     "output_type": "execute_result"
    }
   ],
   "source": [
    "student1.get_age()"
   ]
  },
  {
   "cell_type": "code",
   "execution_count": 54,
   "id": "659e851f-7e67-4008-9122-c714be58e128",
   "metadata": {},
   "outputs": [],
   "source": [
    "student1.set_age(20)"
   ]
  },
  {
   "cell_type": "code",
   "execution_count": 55,
   "id": "e3049140-691a-4d49-b59a-ec7d759ea664",
   "metadata": {},
   "outputs": [
    {
     "data": {
      "text/plain": [
       "20"
      ]
     },
     "execution_count": 55,
     "metadata": {},
     "output_type": "execute_result"
    }
   ],
   "source": [
    "student1.get_age()"
   ]
  },
  {
   "cell_type": "markdown",
   "id": "8d5e8cd9-073a-4fea-86dd-abee59a4c788",
   "metadata": {},
   "source": [
    "Q5.What is method overriding in python? Write a python code to demonstrate method overriding."
   ]
  },
  {
   "cell_type": "markdown",
   "id": "21500b05-1077-425c-b638-44ad8ecc4b3d",
   "metadata": {},
   "source": [
    "When we declare class and one of them inherit the propertie of another and we declare method of same name in both the class then in this case the class which inherit the properties of another class will overid its owm property."
   ]
  },
  {
   "cell_type": "markdown",
   "id": "60114a16-b3cc-4708-b75a-a0691a959c56",
   "metadata": {},
   "source": [
    "Program:"
   ]
  },
  {
   "cell_type": "code",
   "execution_count": 62,
   "id": "8086a18b-0a55-43d0-9a7f-4808d034d52b",
   "metadata": {},
   "outputs": [],
   "source": [
    "class parent:\n",
    "    def hobby(self):\n",
    "        return \"singing\"\n",
    "class child(parent):\n",
    "    def hobby(self):\n",
    "        return\"dancing\""
   ]
  },
  {
   "cell_type": "code",
   "execution_count": 63,
   "id": "a477cc94-b74e-46cd-bbb6-3206110c5f92",
   "metadata": {},
   "outputs": [],
   "source": [
    "om=child()"
   ]
  },
  {
   "cell_type": "code",
   "execution_count": 64,
   "id": "c0800b23-5d4c-4913-b508-aa47dc68f90c",
   "metadata": {},
   "outputs": [
    {
     "data": {
      "text/plain": [
       "'dancing'"
      ]
     },
     "execution_count": 64,
     "metadata": {},
     "output_type": "execute_result"
    }
   ],
   "source": [
    "om.hobby()"
   ]
  },
  {
   "cell_type": "code",
   "execution_count": null,
   "id": "39bc4ca5-ff4e-4b21-994f-25e3696bcfa6",
   "metadata": {},
   "outputs": [],
   "source": []
  }
 ],
 "metadata": {
  "kernelspec": {
   "display_name": "Python 3 (ipykernel)",
   "language": "python",
   "name": "python3"
  },
  "language_info": {
   "codemirror_mode": {
    "name": "ipython",
    "version": 3
   },
   "file_extension": ".py",
   "mimetype": "text/x-python",
   "name": "python",
   "nbconvert_exporter": "python",
   "pygments_lexer": "ipython3",
   "version": "3.10.8"
  }
 },
 "nbformat": 4,
 "nbformat_minor": 5
}
